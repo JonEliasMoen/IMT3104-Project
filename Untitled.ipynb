{
 "cells": [
  {
   "cell_type": "markdown",
   "metadata": {},
   "source": [
    "# Data Preprocessing"
   ]
  },
  {
   "source": [
    "## load data"
   ],
   "cell_type": "markdown",
   "metadata": {}
  },
  {
   "cell_type": "code",
   "execution_count": null,
   "metadata": {},
   "outputs": [],
   "source": [
    "import pandas as pd\n",
    "import numpy as np\n",
    "import seaborn as sn\n",
    "import matplotlib.pyplot as plt\n",
    "\n",
    "items = pd.read_csv('C:/Users/jon39/OneDrive/NTNU/3. år/ai/project/items.csv') # supplemental information about the items/products.\n",
    "salesTrain = pd.read_csv('C:/Users/jon39/OneDrive/NTNU/3. år/ai/project/sales_train.csv') # - the training set. Daily historical data from January 2013 to October 2015.\n",
    "shops = pd.read_csv('C:/Users/jon39/OneDrive/NTNU/3. år/ai/project/shops.csv') # supplemental information about the shops.\n",
    "item_categories = pd.read_csv('C:/Users/jon39/OneDrive/NTNU/3. år/ai/project/item_categories.csv') # supplemental information about the items categories.\n",
    "test = pd.read_csv('C:/Users/jon39/OneDrive/NTNU/3. år/ai/project/test.csv') # the test set. You need to forecast the sales for these shops and products for November 2015."
   ]
  },
  {
   "source": [
    "### items\n"
   ],
   "cell_type": "markdown",
   "metadata": {}
  },
  {
   "cell_type": "code",
   "execution_count": null,
   "metadata": {},
   "outputs": [],
   "source": [
    "cols = items.columns\n",
    "print(\"items.csv head\")\n",
    "print(items.head())\n",
    "print(\"columns: \", items.columns)\n",
    "item_names = items[cols[0]]\n",
    "print(\"Number of items: \", len(item_names))"
   ]
  },
  {
   "source": [
    "### item_categories"
   ],
   "cell_type": "markdown",
   "metadata": {}
  },
  {
   "source": [
    "cols = item_categories.columns\n",
    "print(\"item_categories head\")\n",
    "print(item_categories.head())\n",
    "cat_names = item_categories[cols[0]]\n",
    "print(\"columns: \", cols)\n",
    "print(\"number of categories: \", len(cat_names))"
   ],
   "cell_type": "code",
   "metadata": {},
   "execution_count": null,
   "outputs": []
  },
  {
   "source": [
    "### test"
   ],
   "cell_type": "markdown",
   "metadata": {}
  },
  {
   "cell_type": "code",
   "execution_count": null,
   "metadata": {},
   "outputs": [],
   "source": [
    "cols = test.columns\n",
    "print(\"test. head\")\n",
    "print(test.head())\n",
    "print(\"columns: \", cols)\n",
    "print(\"shop ids: \", np.unique(test[cols[1]])) # all shops are to be predicted\n",
    "print(\"item ids: \", np.unique(test[cols[2]])) # 3 items not to be predicted\n"
   ]
  },
  {
   "source": [
    "### salesTrain\n",
    "\n",
    "predicting sum of sales of each item in each store. "
   ],
   "cell_type": "markdown",
   "metadata": {}
  },
  {
   "cell_type": "code",
   "execution_count": null,
   "metadata": {},
   "outputs": [],
   "source": [
    "cols = salesTrain.columns\n",
    "print(\"Saletrain head\")\n",
    "print(salesTrain.head())\n",
    "print(salesTrain.describe())\n",
    "print(\"columns: \", cols)\n",
    "print(\"number of listings: \", len(salesTrain[cols[0]]))\n",
    "print(\"max sales: \", np.max(salesTrain[cols[-1]]))\n",
    "print(\"min sales: \", np.min(salesTrain[cols[-1]]))\n",
    "print(\"shops: \", np.unique(salesTrain[cols[2]]))\n",
    "print(\"date_block_num\", np.unique(salesTrain[cols[1]]))\n",
    "print(\"item_ids with counts: \", np.unique(salesTrain[cols[3]], return_counts=True)) # not one item per date_block\n",
    "corrMatrix = salesTrain.corr()\n",
    "sn.heatmap(corrMatrix, annot=True)\n",
    "plt.title(\"Correlation matrix of salesTrain\")\n",
    "plt.show()"
   ]
  },
  {
   "cell_type": "code",
   "execution_count": 26,
   "metadata": {},
   "outputs": [
    {
     "output_type": "stream",
     "name": "stdout",
     "text": [
      "\n"
     ]
    }
   ],
   "source": [
    "print()\n",
    "data = salesTrain.groupby(['date_block_num', 'shop_id', 'item_id'], as_index=False)['item_cnt_day'].sum() # sum item sales\n",
    "data = data.set_index('item_id').join(items[['item_category_id', 'item_id']].set_index('item_id'))"
   ]
  },
  {
   "cell_type": "code",
   "execution_count": 30,
   "metadata": {},
   "outputs": [
    {
     "output_type": "stream",
     "name": "stdout",
     "text": [
      "         date_block_num  shop_id  item_cnt_day  item_category_id\n",
      "item_id                                                         \n",
      "0                    20       54           1.0                40\n",
      "1                    15       55           2.0                76\n",
      "1                    18       55           1.0                76\n",
      "1                    19       55           1.0                76\n",
      "1                    20       55           1.0                76\n",
      "...                 ...      ...           ...               ...\n",
      "22168                 1       16           1.0                62\n",
      "22168                 1       42           1.0                62\n",
      "22168                 2       43           1.0                62\n",
      "22168                 8       12           1.0                62\n",
      "22169                14       25           1.0                69\n",
      "\n",
      "[1609124 rows x 4 columns]\n",
      "         date_block_num  item_cnt_day  item_category_id\n",
      "shop_id                                                \n",
      "0                     0           1.0                40\n",
      "0                     0           1.0                55\n",
      "0                     1           2.0                22\n",
      "0                     0           1.0                40\n",
      "0                     0           1.0                40\n",
      "...                 ...           ...               ...\n",
      "59                   16           3.0                23\n",
      "59                   14           4.0                30\n",
      "59                    0           2.0                19\n",
      "59                   10           4.0                40\n",
      "59                   16           1.0                40\n",
      "\n",
      "[1609124 rows x 3 columns]\n"
     ]
    }
   ],
   "source": [
    "print(data) # all data in one dataframe\n",
    "data = data.sort_values(by=['date_num_block', ''])\n",
    "print(data)"
   ]
  },
  {
   "cell_type": "code",
   "execution_count": null,
   "metadata": {},
   "outputs": [],
   "source": []
  }
 ],
 "metadata": {
  "kernelspec": {
   "display_name": "Python 3",
   "language": "python",
   "name": "python3"
  },
  "language_info": {
   "codemirror_mode": {
    "name": "ipython",
    "version": 3
   },
   "file_extension": ".py",
   "mimetype": "text/x-python",
   "name": "python",
   "nbconvert_exporter": "python",
   "pygments_lexer": "ipython3",
   "version": "3.7.6-final"
  }
 },
 "nbformat": 4,
 "nbformat_minor": 4
}